{
 "cells": [
  {
   "cell_type": "markdown",
   "metadata": {},
   "source": [
    "# Optimizing the Mission Profile of a Conventional Aircraft\n",
    "\n",
    "Building upon our previous example, this notebook introduces more complexity into the Aviary optimization process.\n",
    "Please see the [simple mission example](simple_mission_example) if you haven't already.\n",
    "\n",
    "## Increasing Complexity in Phase Information\n",
    "\n",
    "We will now modify the `phase_info` object from our prior example by increasing `num_segments` to 3 and setting `optimize_mach` to `True`.\n",
    "This means that we'll query the aircraft performance at more points along the mission and also give the optimizer the freedom to choose an optimal Mach profile.\n",
    "\n",
    "```{note}\n",
    "We are still using a `polynomial_control_order` of 1, which means that the optimal Mach profiles for each phase will be linear (straight lines).\n",
    "Later in this example, we increase this order which will allow the optimizer to choose a more complex Mach profile.\n",
    "```"
   ]
  },
  {
   "cell_type": "code",
   "execution_count": 11,
   "metadata": {},
   "outputs": [],
   "source": [
    "phase_info = {\n",
    "    \"pre_mission\": {\"include_takeoff\": False, \"optimize_mass\": True},\n",
    "    \"climb_1\": {\n",
    "        \"subsystem_options\": {\"core_aerodynamics\": {\"method\": \"computed\"}},\n",
    "        \"user_options\": {\n",
    "            \"optimize_mach\": True,\n",
    "            \"optimize_altitude\": False,\n",
    "            \"polynomial_control_order\": 1,\n",
    "            \"num_segments\": 3,\n",
    "            \"order\": 3,\n",
    "            \"solve_for_distance\": False,\n",
    "            \"initial_mach\": (0.2, \"unitless\"),\n",
    "            \"final_mach\": (0.72, \"unitless\"),\n",
    "            \"mach_bounds\": ((0.18, 0.74), \"unitless\"),\n",
    "            \"initial_altitude\": (0.0, \"ft\"),\n",
    "            \"final_altitude\": (30500.0, \"ft\"),\n",
    "            \"altitude_bounds\": ((0.0, 31000.0), \"ft\"),\n",
    "            \"throttle_enforcement\": \"path_constraint\",\n",
    "            \"fix_initial\": True,\n",
    "            \"constrain_final\": False,\n",
    "            \"fix_duration\": False,\n",
    "            \"initial_bounds\": ((0.0, 0.0), \"min\"),\n",
    "            \"duration_bounds\": ((27.0, 81.0), \"min\"),\n",
    "        },\n",
    "        \"initial_guesses\": {\"times\": ([0, 54], \"min\")},\n",
    "    },\n",
    "    \"cruise\": {\n",
    "        \"subsystem_options\": {\"core_aerodynamics\": {\"method\": \"computed\"}},\n",
    "        \"user_options\": {\n",
    "            \"optimize_mach\": True,\n",
    "            \"optimize_altitude\": False,\n",
    "            \"polynomial_control_order\": 1,\n",
    "            \"num_segments\": 3,\n",
    "            \"order\": 3,\n",
    "            \"solve_for_distance\": False,\n",
    "            \"initial_mach\": (0.72, \"unitless\"),\n",
    "            \"final_mach\": (0.72, \"unitless\"),\n",
    "            \"mach_bounds\": ((0.7, 0.74), \"unitless\"),\n",
    "            \"initial_altitude\": (30500.0, \"ft\"),\n",
    "            \"final_altitude\": (31000.0, \"ft\"),\n",
    "            \"altitude_bounds\": ((30000.0, 31500.0), \"ft\"),\n",
    "            \"throttle_enforcement\": \"boundary_constraint\",\n",
    "            \"fix_initial\": False,\n",
    "            \"constrain_final\": False,\n",
    "            \"fix_duration\": False,\n",
    "            \"initial_bounds\": ((27.0, 81.0), \"min\"),\n",
    "            \"duration_bounds\": ((85.5, 256.5), \"min\"),\n",
    "        },\n",
    "        \"initial_guesses\": {\"times\": ([54, 171], \"min\")},\n",
    "    },\n",
    "    \"descent_1\": {\n",
    "        \"subsystem_options\": {\"core_aerodynamics\": {\"method\": \"computed\"}},\n",
    "        \"user_options\": {\n",
    "            \"optimize_mach\": True,\n",
    "            \"optimize_altitude\": False,\n",
    "            \"polynomial_control_order\": 1,\n",
    "            \"num_segments\": 3,\n",
    "            \"order\": 3,\n",
    "            \"solve_for_distance\": False,\n",
    "            \"initial_mach\": (0.72, \"unitless\"),\n",
    "            \"final_mach\": (0.2, \"unitless\"),\n",
    "            \"mach_bounds\": ((0.18, 0.74), \"unitless\"),\n",
    "            \"initial_altitude\": (31000.0, \"ft\"),\n",
    "            \"final_altitude\": (500.0, \"ft\"),\n",
    "            \"altitude_bounds\": ((0.0, 31500.0), \"ft\"),\n",
    "            \"throttle_enforcement\": \"path_constraint\",\n",
    "            \"fix_initial\": False,\n",
    "            \"constrain_final\": True,\n",
    "            \"fix_duration\": False,\n",
    "            \"initial_bounds\": ((112.5, 337.5), \"min\"),\n",
    "            \"duration_bounds\": ((26.5, 79.5), \"min\"),\n",
    "        },\n",
    "        \"initial_guesses\": {\"times\": ([225, 53], \"min\")},\n",
    "    },\n",
    "    \"post_mission\": {\n",
    "        \"include_landing\": False,\n",
    "        \"constrain_range\": True,\n",
    "        \"target_range\": (1915, \"nmi\"),\n",
    "    },\n",
    "}"
   ]
  },
  {
   "cell_type": "markdown",
   "metadata": {},
   "source": [
    "## Running Aviary with Updated Parameters\n",
    "\n",
    "Let's run the Aviary optimization with our updated `phase_info` object in the same way as before.\n"
   ]
  },
  {
   "cell_type": "code",
   "execution_count": 12,
   "metadata": {
    "tags": [
     "remove-input",
     "remove-output"
    ]
   },
   "outputs": [],
   "source": [
    "from openmdao.core.problem import _clear_problem_names\n",
    "_clear_problem_names()  # need to reset these to simulate separate runs\n",
    "from openmdao.utils.reports_system import clear_reports\n",
    "clear_reports()"
   ]
  },
  {
   "cell_type": "code",
   "execution_count": 13,
   "metadata": {},
   "outputs": [
    {
     "name": "stdout",
     "output_type": "stream",
     "text": [
      "Unused: aircraft:crew_and_payload:num_non_flight_crew [3] \n",
      "Unused: aircraft:nacelle:count_factor [2] \n"
     ]
    },
    {
     "name": "stderr",
     "output_type": "stream",
     "text": [
      "/Users/hschilli/Documents/OpenMDAO/dev/I112-level1-reports-location/aviary/subsystems/propulsion/engine_model.py:132: UserWarning: The value of aircraft:engine:wing_locations passed to EngineModel <engine_deck> is type <class 'numpy.ndarray'>. Only the first entry in this iterable will be used.\n",
      "  warnings.warn(\n"
     ]
    },
    {
     "name": "stdout",
     "output_type": "stream",
     "text": [
      "\n",
      "The following variables have been overridden:\n",
      "  'aircraft:design:touchdown_mass\n",
      "  'aircraft:engine:mass\n",
      "  'aircraft:fins:mass\n",
      "  'aircraft:fuel:auxiliary_fuel_capacity\n",
      "  'aircraft:fuel:fuselage_fuel_capacity\n",
      "  'aircraft:fuel:total_capacity\n",
      "  'aircraft:fuselage:planform_area\n",
      "  'aircraft:fuselage:wetted_area\n",
      "  'aircraft:horizontal_tail:wetted_area\n",
      "  'aircraft:landing_gear:main_gear_oleo_length\n",
      "  'aircraft:landing_gear:nose_gear_oleo_length\n",
      "  'aircraft:vertical_tail:wetted_area\n",
      "  'aircraft:wing:aspect_ratio\n",
      "  'aircraft:wing:control_surface_area\n",
      "  'aircraft:wing:wetted_area\n",
      "\n",
      "--- Constraint Report [traj] ---\n",
      "    --- climb_1 ---\n",
      "        [initial] 2.0000e-01 == mach [unitless]\n",
      "        [path]    0.0000e+00 <= throttle <= 1.0000e+00  [unitless]\n",
      "    --- cruise ---\n",
      "        [initial] 0.0000e+00 <= throttle <= 1.0000e+00  [unitless]\n",
      "        [final]   0.0000e+00 <= throttle <= 1.0000e+00  [unitless]\n",
      "    --- descent_1 ---\n",
      "        [final]   2.0000e-01 == mach [unitless]\n",
      "        [path]    0.0000e+00 <= throttle <= 1.0000e+00  [unitless]\n",
      "\n"
     ]
    },
    {
     "name": "stderr",
     "output_type": "stream",
     "text": [
      "/Users/hschilli/Documents/OpenMDAO/dev/OpenMDAO/openmdao/recorders/sqlite_recorder.py:227: UserWarning:The existing case recorder file, dymos_solution.db, is being overwritten.\n"
     ]
    },
    {
     "name": "stdout",
     "output_type": "stream",
     "text": [
      "Model viewer data has already been recorded for Driver.\n",
      "Full total jacobian was computed 3 times, taking 0.432233 seconds.\n",
      "Total jacobian shape: (87, 65) \n",
      "\n",
      "\n",
      "Jacobian shape: (87, 65)  (16.23% nonzero)\n",
      "FWD solves: 19   REV solves: 0\n",
      "Total colors vs. total size: 19 vs 65  (70.77% improvement)\n",
      "\n",
      "Sparsity computed using tolerance: 1e-25\n",
      "Time to compute sparsity:   0.4322 sec\n",
      "Time to compute coloring:   0.0526 sec\n",
      "Memory to compute coloring:   0.1719 MB\n",
      "Coloring created on: 2024-02-22 11:55:30\n"
     ]
    },
    {
     "name": "stderr",
     "output_type": "stream",
     "text": [
      "/Users/hschilli/Documents/OpenMDAO/dev/OpenMDAO/openmdao/core/total_jac.py:1788: DerivativesWarning:Design variables [('traj.climb_1.t_initial', inds=[0])] have no impact on the constraints or objective.\n"
     ]
    },
    {
     "name": "stdout",
     "output_type": "stream",
     "text": [
      "Optimization terminated successfully    (Exit mode 0)\n",
      "            Current function value: 2.347895386522179\n",
      "            Iterations: 10\n",
      "            Function evaluations: 10\n",
      "            Gradient evaluations: 10\n",
      "Optimization Complete\n",
      "-----------------------------------\n"
     ]
    }
   ],
   "source": [
    "import aviary.api as av\n",
    "\n",
    "prob = av.run_aviary('models/test_aircraft/aircraft_for_bench_FwFm.csv',\n",
    "                     phase_info, optimizer=\"SLSQP\", make_plots=True)"
   ]
  },
  {
   "cell_type": "markdown",
   "metadata": {},
   "source": [
    "Now that we've run Aviary, we can look at the results.\n",
    "Open up the automatically generated `traj_results_report.html` and scroll through it to visualize the results.\n",
    "\n",
    "Here are the altitude and Mach profiles:\n",
    "\n",
    "![Altitude and Mach Profiles](images/advanced_results.png)\n",
    "\n",
    "We note two major changes compared to our first example.\n",
    "\n",
    "The first is that we have many more points where the flight dynamics were evaluated because we increased `num_segments` to 3.\n",
    "This means that we have more points shown on the resulting plots.\n",
    "\n",
    "The second is that the optimizer chose the optimal Mach profile.\n",
    "Again, each phase's Mach profile is constrained to be linear because we set `polynomial_control_order` to 1.\n",
    "However, we see that the optimizer chose to decrease the Mach number during the cruise-climb segment to minimize fuel burn.\n",
    "\n",
    "```{note}\n",
    "Remember, we did not allow the optimizer to control the altitude profile, so that remains fixed.\n",
    "```\n",
    "\n",
    "Let's take a look at the optimization objective, `fuel_burned`:"
   ]
  },
  {
   "cell_type": "code",
   "execution_count": 14,
   "metadata": {},
   "outputs": [
    {
     "name": "stdout",
     "output_type": "stream",
     "text": [
      "10649.874328846612\n"
     ]
    }
   ],
   "source": [
    "print(prob.get_val('fuel_burned', units='kg')[0])"
   ]
  },
  {
   "cell_type": "markdown",
   "metadata": {},
   "source": [
    "## Modifying the Aircraft Configuration\n",
    "\n",
    "Next, we'll modify the aircraft configuration by decreasing the wing aspect ratio by 0.2.\n",
    "This results in a less slender wing, which will increase the induced drag.\n",
    "We've made this change and have a modified aircraft data file called `modified_aircraft.csv`."
   ]
  },
  {
   "cell_type": "code",
   "execution_count": 15,
   "metadata": {
    "tags": [
     "hide-input"
    ]
   },
   "outputs": [],
   "source": [
    "import csv\n",
    "\n",
    "filename = 'models/test_aircraft/aircraft_for_bench_FwFm.csv'\n",
    "filename = av.get_path(filename)\n",
    "\n",
    "# Read the file\n",
    "with open(filename, 'r') as file:\n",
    "    reader = csv.reader(file)\n",
    "    lines = list(reader)\n",
    "\n",
    "# Find the index of the line containing 'aircraft:wing:span'\n",
    "index = None\n",
    "for i, line in enumerate(lines):\n",
    "    if 'aircraft:wing:aspect_ratio' in line:\n",
    "        index = i\n",
    "        break\n",
    "\n",
    "# Modify the value in the line\n",
    "if index is not None:\n",
    "    aspect_ratio = float(lines[index][1]) - 0.2\n",
    "    lines[index][1] = str(aspect_ratio)\n",
    "\n",
    "# Write the modified content to a new CSV file\n",
    "new_filename = 'modified_aircraft.csv'\n",
    "with open(new_filename, 'w', newline='') as file:\n",
    "    writer = csv.writer(file)\n",
    "    writer.writerows(lines)\n"
   ]
  },
  {
   "cell_type": "markdown",
   "metadata": {},
   "source": [
    "## Re-running the Optimization with Modified Aircraft\n",
    "\n",
    "Now, let's re-run the optimization with the modified aircraft configuration.\n",
    "We'll use the same `phase_info` object as before, but we'll change the input deck to point to our new aircraft file."
   ]
  },
  {
   "cell_type": "code",
   "execution_count": 16,
   "metadata": {
    "tags": [
     "remove-input",
     "remove-output"
    ]
   },
   "outputs": [],
   "source": [
    "from openmdao.core.problem import _clear_problem_names\n",
    "_clear_problem_names()  # need to reset these to simulate separate runs\n",
    "from openmdao.utils.reports_system import clear_reports\n",
    "clear_reports()"
   ]
  },
  {
   "cell_type": "code",
   "execution_count": 17,
   "metadata": {},
   "outputs": [
    {
     "name": "stdout",
     "output_type": "stream",
     "text": [
      "Unused: aircraft:crew_and_payload:num_non_flight_crew [3] \n",
      "Unused: aircraft:nacelle:count_factor [2] \n"
     ]
    },
    {
     "name": "stderr",
     "output_type": "stream",
     "text": [
      "/Users/hschilli/Documents/OpenMDAO/dev/I112-level1-reports-location/aviary/subsystems/propulsion/engine_model.py:132: UserWarning: The value of aircraft:engine:wing_locations passed to EngineModel <engine_deck> is type <class 'numpy.ndarray'>. Only the first entry in this iterable will be used.\n",
      "  warnings.warn(\n"
     ]
    },
    {
     "name": "stdout",
     "output_type": "stream",
     "text": [
      "\n",
      "The following variables have been overridden:\n",
      "  'aircraft:design:touchdown_mass\n",
      "  'aircraft:engine:mass\n",
      "  'aircraft:fins:mass\n",
      "  'aircraft:fuel:auxiliary_fuel_capacity\n",
      "  'aircraft:fuel:fuselage_fuel_capacity\n",
      "  'aircraft:fuel:total_capacity\n",
      "  'aircraft:fuselage:planform_area\n",
      "  'aircraft:fuselage:wetted_area\n",
      "  'aircraft:horizontal_tail:wetted_area\n",
      "  'aircraft:landing_gear:main_gear_oleo_length\n",
      "  'aircraft:landing_gear:nose_gear_oleo_length\n",
      "  'aircraft:vertical_tail:wetted_area\n",
      "  'aircraft:wing:aspect_ratio\n",
      "  'aircraft:wing:control_surface_area\n",
      "  'aircraft:wing:wetted_area\n",
      "\n",
      "--- Constraint Report [traj] ---\n",
      "    --- climb_1 ---\n",
      "        [initial] 2.0000e-01 == mach [unitless]\n",
      "        [path]    0.0000e+00 <= throttle <= 1.0000e+00  [unitless]\n",
      "    --- cruise ---\n",
      "        [initial] 0.0000e+00 <= throttle <= 1.0000e+00  [unitless]\n",
      "        [final]   0.0000e+00 <= throttle <= 1.0000e+00  [unitless]\n",
      "    --- descent_1 ---\n",
      "        [final]   2.0000e-01 == mach [unitless]\n",
      "        [path]    0.0000e+00 <= throttle <= 1.0000e+00  [unitless]\n",
      "\n"
     ]
    },
    {
     "name": "stderr",
     "output_type": "stream",
     "text": [
      "/Users/hschilli/Documents/OpenMDAO/dev/OpenMDAO/openmdao/recorders/sqlite_recorder.py:227: UserWarning:The existing case recorder file, dymos_solution.db, is being overwritten.\n"
     ]
    },
    {
     "name": "stdout",
     "output_type": "stream",
     "text": [
      "Model viewer data has already been recorded for Driver.\n",
      "Full total jacobian was computed 3 times, taking 0.384326 seconds.\n",
      "Total jacobian shape: (87, 65) \n",
      "\n",
      "\n",
      "Jacobian shape: (87, 65)  (16.23% nonzero)\n",
      "FWD solves: 19   REV solves: 0\n",
      "Total colors vs. total size: 19 vs 65  (70.77% improvement)\n",
      "\n",
      "Sparsity computed using tolerance: 1e-25\n",
      "Time to compute sparsity:   0.3843 sec\n",
      "Time to compute coloring:   0.0536 sec\n",
      "Memory to compute coloring:   0.1133 MB\n",
      "Coloring created on: 2024-02-22 11:55:40\n"
     ]
    },
    {
     "name": "stderr",
     "output_type": "stream",
     "text": [
      "/Users/hschilli/Documents/OpenMDAO/dev/OpenMDAO/openmdao/core/total_jac.py:1788: DerivativesWarning:Design variables [('traj.climb_1.t_initial', inds=[0])] have no impact on the constraints or objective.\n"
     ]
    },
    {
     "name": "stdout",
     "output_type": "stream",
     "text": [
      "Optimization terminated successfully    (Exit mode 0)\n",
      "            Current function value: 2.3663530188896607\n",
      "            Iterations: 9\n",
      "            Function evaluations: 10\n",
      "            Gradient evaluations: 9\n",
      "Optimization Complete\n",
      "-----------------------------------\n"
     ]
    }
   ],
   "source": [
    "prob = av.run_aviary('modified_aircraft.csv', phase_info,\n",
    "                     optimizer=\"SLSQP\", make_plots=True)"
   ]
  },
  {
   "cell_type": "markdown",
   "metadata": {},
   "source": [
    "The case again converged in relatively few iterations.\n",
    "Let's take a look at the fuel burn value:"
   ]
  },
  {
   "cell_type": "code",
   "execution_count": 18,
   "metadata": {},
   "outputs": [
    {
     "name": "stdout",
     "output_type": "stream",
     "text": [
      "10733.59674094816\n"
     ]
    }
   ],
   "source": [
    "print(prob.get_val('fuel_burned', units='kg')[0])"
   ]
  },
  {
   "cell_type": "markdown",
   "metadata": {},
   "source": [
    "As expected, it's a bit higher than our prior run that had a larger aspect ratio.\n",
    "\n",
    "## Increasing the Polynomial Control Order\n",
    "\n",
    "Next, we'll increase the `polynomial_control_order` to 3 for the climb and descent phases.\n",
    "This means that the optimizer will be able to choose a cubic Mach profile per phase instead of a line.\n",
    "We'll use the original aircraft configuration for this run.\n",
    "\n",
    "```{note}\n",
    "We'll use the IPOPT optimizer for this problem as it will handle the increased complexity better than SLSQP.\n",
    "```"
   ]
  },
  {
   "cell_type": "code",
   "execution_count": 19,
   "metadata": {
    "tags": [
     "remove-input",
     "remove-output"
    ]
   },
   "outputs": [],
   "source": [
    "from openmdao.core.problem import _clear_problem_names\n",
    "_clear_problem_names()  # need to reset these to simulate separate runs\n",
    "from openmdao.utils.reports_system import clear_reports\n",
    "clear_reports()"
   ]
  },
  {
   "cell_type": "code",
   "execution_count": 20,
   "metadata": {},
   "outputs": [
    {
     "name": "stdout",
     "output_type": "stream",
     "text": [
      "Unused: aircraft:crew_and_payload:num_non_flight_crew [3] \n",
      "Unused: aircraft:nacelle:count_factor [2] \n"
     ]
    },
    {
     "name": "stderr",
     "output_type": "stream",
     "text": [
      "/Users/hschilli/Documents/OpenMDAO/dev/I112-level1-reports-location/aviary/subsystems/propulsion/engine_model.py:132: UserWarning: The value of aircraft:engine:wing_locations passed to EngineModel <engine_deck> is type <class 'numpy.ndarray'>. Only the first entry in this iterable will be used.\n",
      "  warnings.warn(\n"
     ]
    },
    {
     "name": "stdout",
     "output_type": "stream",
     "text": [
      "\n",
      "The following variables have been overridden:\n",
      "  'aircraft:design:touchdown_mass\n",
      "  'aircraft:engine:mass\n",
      "  'aircraft:fins:mass\n",
      "  'aircraft:fuel:auxiliary_fuel_capacity\n",
      "  'aircraft:fuel:fuselage_fuel_capacity\n",
      "  'aircraft:fuel:total_capacity\n",
      "  'aircraft:fuselage:planform_area\n",
      "  'aircraft:fuselage:wetted_area\n",
      "  'aircraft:horizontal_tail:wetted_area\n",
      "  'aircraft:landing_gear:main_gear_oleo_length\n",
      "  'aircraft:landing_gear:nose_gear_oleo_length\n",
      "  'aircraft:vertical_tail:wetted_area\n",
      "  'aircraft:wing:aspect_ratio\n",
      "  'aircraft:wing:control_surface_area\n",
      "  'aircraft:wing:wetted_area\n",
      "\n",
      "--- Constraint Report [traj] ---\n",
      "    --- climb_1 ---\n",
      "        [initial] 2.0000e-01 == mach [unitless]\n",
      "        [path]    0.0000e+00 <= throttle <= 1.0000e+00  [unitless]\n",
      "    --- cruise ---\n",
      "        [initial] 0.0000e+00 <= throttle <= 1.0000e+00  [unitless]\n",
      "        [final]   0.0000e+00 <= throttle <= 1.0000e+00  [unitless]\n",
      "    --- descent_1 ---\n",
      "        [final]   2.0000e-01 == mach [unitless]\n",
      "        [path]    0.0000e+00 <= throttle <= 1.0000e+00  [unitless]\n",
      "\n"
     ]
    },
    {
     "name": "stderr",
     "output_type": "stream",
     "text": [
      "/Users/hschilli/Documents/OpenMDAO/dev/OpenMDAO/openmdao/recorders/sqlite_recorder.py:227: UserWarning:The existing case recorder file, dymos_solution.db, is being overwritten.\n"
     ]
    },
    {
     "name": "stdout",
     "output_type": "stream",
     "text": [
      "Model viewer data has already been recorded for Driver.\n",
      "Model viewer data has already been recorded for Driver.\n",
      "Full total jacobian was computed 3 times, taking 0.522228 seconds.\n",
      "Total jacobian shape: (87, 69) \n",
      "\n",
      "\n",
      "Jacobian shape: (87, 69)  (17.14% nonzero)\n",
      "FWD solves: 18   REV solves: 0\n",
      "Total colors vs. total size: 18 vs 69  (73.91% improvement)\n",
      "\n",
      "Sparsity computed using tolerance: 1e-25\n",
      "Time to compute sparsity:   0.5222 sec\n",
      "Time to compute coloring:   0.0631 sec\n",
      "Memory to compute coloring:  -0.0039 MB\n",
      "Coloring created on: 2024-02-22 11:55:52\n",
      "\n",
      "List of user-set options:\n",
      "\n",
      "                                    Name   Value                used\n",
      "                             alpha_for_y = safer-min-dual-infeas  yes\n",
      "                        file_print_level = 5                     yes\n",
      "                   hessian_approximation = limited-memory        yes\n",
      "                           linear_solver = mumps                 yes\n",
      "                                max_iter = 50                    yes\n",
      "                                 mu_init = 1e-05                 yes\n",
      "                             mu_strategy = monotone              yes\n",
      "                      nlp_scaling_method = gradient-based        yes\n",
      "                             output_file = reports/aircraft_for_bench_FwFm/IPOPT.out  yes\n",
      "                             print_level = 5                     yes\n",
      "                      print_user_options = yes                   yes\n",
      "                                      sb = yes                   yes\n",
      "                                     tol = 1e-06                 yes\n",
      "This is Ipopt version 3.14.13, running with linear solver MUMPS 5.2.1.\n",
      "\n",
      "Number of nonzeros in equality constraint Jacobian...:      565\n",
      "Number of nonzeros in inequality constraint Jacobian.:      308\n",
      "Number of nonzeros in Lagrangian Hessian.............:        0\n",
      "\n"
     ]
    },
    {
     "name": "stderr",
     "output_type": "stream",
     "text": [
      "/Users/hschilli/Documents/OpenMDAO/dev/OpenMDAO/openmdao/core/total_jac.py:1788: DerivativesWarning:Design variables [('traj.climb_1.t_initial', inds=[0])] have no impact on the constraints or objective.\n"
     ]
    },
    {
     "name": "stdout",
     "output_type": "stream",
     "text": [
      "Total number of variables............................:       69\n",
      "                     variables with only lower bounds:        0\n",
      "                variables with lower and upper bounds:       69\n",
      "                     variables with only upper bounds:        0\n",
      "Total number of equality constraints.................:       60\n",
      "Total number of inequality constraints...............:       26\n",
      "        inequality constraints with only lower bounds:        0\n",
      "   inequality constraints with lower and upper bounds:       26\n",
      "        inequality constraints with only upper bounds:        0\n",
      "\n",
      "iter    objective    inf_pr   inf_du lg(mu)  ||d||  lg(rg) alpha_du alpha_pr  ls\n",
      "   0  0.0000000e+00 1.91e+01 1.16e-01  -5.0 0.00e+00    -  0.00e+00 0.00e+00   0\n",
      "   1  3.5202626e-02 1.86e+01 1.04e+00  -5.0 6.42e+00    -  2.82e-03 2.41e-02h  1\n",
      "   2  2.6763572e-01 1.67e+01 1.06e+00  -5.0 4.58e+00    -  2.26e-02 1.05e-01h  1\n",
      "   3  3.3122319e-01 1.64e+01 1.10e+00  -5.0 5.59e+00    -  1.98e-02 1.89e-02h  1\n",
      "   4  4.7490459e-01 1.57e+01 1.11e+00  -5.0 5.20e+00    -  6.93e-03 3.97e-02h  1\n",
      "   5  4.9776727e-01 1.55e+01 1.11e+00  -5.0 2.91e+00    -  2.27e-03 1.08e-02h  1\n",
      "   6  5.7982303e-01 1.49e+01 1.10e+00  -5.0 2.88e+00    -  1.18e-02 4.29e-02h  1\n",
      "   7  8.6480827e-01 1.27e+01 1.06e+00  -5.0 2.76e+00    -  3.78e-02 1.46e-01h  1\n",
      "   8  9.0160706e-01 1.24e+01 1.03e+00  -5.0 2.36e+00    -  2.29e-02 2.26e-02h  1\n",
      "   9  1.1791710e+00 1.04e+01 1.01e+00  -5.0 2.30e+00    -  2.33e-02 1.65e-01h  1\n",
      "iter    objective    inf_pr   inf_du lg(mu)  ||d||  lg(rg) alpha_du alpha_pr  ls\n",
      "  10  1.4419290e+00 8.63e+00 9.67e-01  -5.0 1.92e+00    -  4.15e-02 1.68e-01h  1\n",
      "  11  2.6785691e+00 3.62e-05 1.92e+00  -5.0 1.60e+00    -  1.96e-02 1.00e+00h  1\n",
      "  12  2.6776239e+00 2.00e-06 3.96e-01  -5.0 1.73e-02    -  7.67e-01 1.00e+00h  1\n",
      "  13  2.6207585e+00 2.64e-05 1.94e-01  -5.0 7.28e-02    -  4.55e-01 1.00e+00h  1\n",
      "  14  2.4804347e+00 1.02e-04 1.39e-01  -5.0 1.89e-01    -  3.99e-01 1.00e+00h  1\n",
      "  15  2.3839561e+00 7.60e-05 8.98e-02  -5.0 2.33e-01    -  5.39e-01 1.00e+00h  1\n",
      "  16  2.3532694e+00 3.19e-05 1.06e-01  -5.0 1.88e-01    -  2.63e-01 1.00e+00h  1\n",
      "  17  2.3681258e+00 5.50e-06 1.11e-01  -5.0 6.70e-02    -  2.85e-01 1.00e+00h  1\n",
      "  18  2.3420452e+00 9.19e-06 7.52e-02  -5.0 1.65e-01    -  5.01e-01 1.00e+00h  1\n",
      "  19  2.3039175e+00 4.35e-03 1.09e-01  -5.0 8.72e-01    -  1.60e-01 4.89e-01h  1\n",
      "iter    objective    inf_pr   inf_du lg(mu)  ||d||  lg(rg) alpha_du alpha_pr  ls\n",
      "  20  2.2836930e+00 3.66e-03 7.28e-02  -5.0 1.43e+00    -  1.47e-01 1.62e-01h  1\n",
      "  21  2.2856159e+00 2.83e-02 4.81e-02  -5.0 1.72e-01    -  1.68e-01 5.80e-01h  1\n",
      "  22  2.2875951e+00 1.09e-02 4.43e-02  -5.0 1.15e-01    -  5.57e-01 6.04e-01h  1\n",
      "  23  2.2893958e+00 7.13e-03 1.25e-02  -5.0 7.60e-02    -  6.07e-01 4.71e-01h  1\n",
      "  24  2.2928363e+00 1.13e-04 8.88e-03  -5.0 2.53e-02    -  9.81e-01 1.00e+00h  1\n",
      "  25  2.2929696e+00 1.48e-07 9.40e-03  -5.0 3.06e-02    -  1.00e+00 1.00e+00h  1\n",
      "  26  2.2923460e+00 8.12e-07 9.20e-03  -5.0 4.28e-02    -  1.00e+00 1.00e+00h  1\n",
      "  27  2.2926392e+00 2.22e-07 4.06e-03  -5.0 1.63e-02    -  1.00e+00 1.00e+00h  1\n",
      "  28  2.2927158e+00 4.38e-08 1.97e-03  -5.0 3.40e-03    -  1.00e+00 1.00e+00h  1\n",
      "  29  2.2926882e+00 1.29e-08 2.33e-04  -5.0 4.84e-04    -  1.00e+00 1.00e+00h  1\n",
      "iter    objective    inf_pr   inf_du lg(mu)  ||d||  lg(rg) alpha_du alpha_pr  ls\n",
      "  30  2.2927001e+00 3.30e-09 5.02e-05  -5.0 2.40e-04    -  1.00e+00 1.00e+00h  1\n",
      "  31  2.2926625e+00 5.46e-07 3.59e-04  -7.0 1.08e-03    -  9.97e-01 9.85e-01h  1\n",
      "  32  2.2926641e+00 7.88e-07 2.43e-04  -7.0 3.07e-04    -  1.00e+00 1.00e+00h  1\n",
      "  33  2.2926681e+00 2.48e-09 1.54e-05  -7.0 1.13e-04    -  1.00e+00 1.00e+00h  1\n",
      "  34  2.2926659e+00 1.62e-10 8.04e-07  -7.0 7.47e-06    -  1.00e+00 1.00e+00h  1\n",
      "\n",
      "Number of Iterations....: 34\n",
      "\n",
      "                                   (scaled)                 (unscaled)\n",
      "Objective...............:   2.2926659102265781e+00    2.2926659102265781e+00\n",
      "Dual infeasibility......:   8.0442783404442650e-07    8.0442783404442650e-07\n",
      "Constraint violation....:   1.6244830068716367e-10    1.6244830068716367e-10\n",
      "Variable bound violation:   0.0000000000000000e+00    0.0000000000000000e+00\n",
      "Complementarity.........:   9.0909090911457988e-08    9.0909090911457988e-08\n",
      "Overall NLP error.......:   8.0442783404442650e-07    8.0442783404442650e-07\n",
      "\n",
      "\n",
      "Number of objective function evaluations             = 35\n",
      "Number of objective gradient evaluations             = 35\n",
      "Number of equality constraint evaluations            = 35\n",
      "Number of inequality constraint evaluations          = 35\n",
      "Number of equality constraint Jacobian evaluations   = 35\n",
      "Number of inequality constraint Jacobian evaluations = 35\n",
      "Number of Lagrangian Hessian evaluations             = 0\n",
      "Total seconds in IPOPT                               = 17.478\n",
      "\n",
      "EXIT: Optimal Solution Found.\n",
      "\n",
      "\n",
      "Optimization Problem -- Optimization using pyOpt_sparse\n",
      "================================================================================\n",
      "    Objective Function: _objfunc\n",
      "\n",
      "    Solution: \n",
      "--------------------------------------------------------------------------------\n",
      "    Total Time:                   17.5148\n",
      "       User Objective Time :      12.2384\n",
      "       User Sensitivity Time :     4.9964\n",
      "       Interface Time :            0.1077\n",
      "       Opt Solver Time:            0.1723\n",
      "    Calls to Objective Function :      36\n",
      "    Calls to Sens Function :           36\n",
      "\n",
      "\n",
      "   Objectives\n",
      "      Index  Name                   Value\n",
      "          0  fuel_burned     2.292666E+00\n",
      "\n",
      "   Variables (c - continuous, i - integer, d - discrete)\n",
      "      Index  Name                                        Type      Lower Bound            Value      Upper Bound     Status\n",
      "          0  mission:design:gross_mass_0                    c     7.407407E-01     1.186862E+00     1.481481E+00           \n",
      "          1  traj.climb_1.t_initial_0                       c    -1.666667E+18     0.000000E+00     1.666667E+18           \n",
      "          2  traj.climb_1.t_duration_0                      c     5.000000E-01     5.000015E-01     1.500000E+00           \n",
      "          3  traj.climb_1.states:mass_0                     c     0.000000E+00     7.931662E+00     1.000000E+17           \n",
      "          4  traj.climb_1.states:mass_1                     c     0.000000E+00     7.907364E+00     1.000000E+17           \n",
      "          5  traj.climb_1.states:mass_2                     c     0.000000E+00     7.898871E+00     1.000000E+17           \n",
      "          6  traj.climb_1.states:mass_3                     c     0.000000E+00     7.868957E+00     1.000000E+17           \n",
      "          7  traj.climb_1.states:mass_4                     c     0.000000E+00     7.828223E+00     1.000000E+17           \n",
      "          8  traj.climb_1.states:mass_5                     c     0.000000E+00     7.815965E+00     1.000000E+17           \n",
      "          9  traj.climb_1.states:mass_6                     c     0.000000E+00     7.799516E+00     1.000000E+17           \n",
      "         10  traj.climb_1.states:mass_7                     c     0.000000E+00     7.778635E+00     1.000000E+17           \n",
      "         11  traj.climb_1.states:mass_8                     c     0.000000E+00     7.772448E+00     1.000000E+17           \n",
      "         12  traj.climb_1.states:distance_0                 c     0.000000E+00     1.405035E-02     1.000000E+15           \n",
      "         13  traj.climb_1.states:distance_1                 c     0.000000E+00     4.278302E-02     1.000000E+15           \n",
      "         14  traj.climb_1.states:distance_2                 c     0.000000E+00     5.373912E-02     1.000000E+15           \n",
      "         15  traj.climb_1.states:distance_3                 c     0.000000E+00     1.003647E-01     1.000000E+15           \n",
      "         16  traj.climb_1.states:distance_4                 c     0.000000E+00     1.751719E-01     1.000000E+15           \n",
      "         17  traj.climb_1.states:distance_5                 c     0.000000E+00     2.000974E-01     1.000000E+15           \n",
      "         18  traj.climb_1.states:distance_6                 c     0.000000E+00     2.357259E-01     1.000000E+15           \n",
      "         19  traj.climb_1.states:distance_7                 c     0.000000E+00     2.844957E-01     1.000000E+15           \n",
      "         20  traj.climb_1.states:distance_8                 c     0.000000E+00     2.996271E-01     1.000000E+15           \n",
      "         21  traj.climb_1.polynomial_controls:mach_0        c     3.600000E-01     4.000000E-01     1.480000E+00           \n",
      "         22  traj.climb_1.polynomial_controls:mach_1        c     3.600000E-01     9.910219E-01     1.480000E+00           \n",
      "         23  traj.climb_1.polynomial_controls:mach_2        c     3.600000E-01     1.426426E+00     1.480000E+00           \n",
      "         24  traj.climb_1.polynomial_controls:mach_3        c     3.600000E-01     1.432334E+00     1.480000E+00           \n",
      "         25  traj.cruise.t_duration_0                       c     5.000000E-01     1.347063E+00     1.500000E+00           \n",
      "         26  traj.cruise.states:mass_0                      c     0.000000E+00     7.688642E+00     1.000000E+17           \n",
      "         27  traj.cruise.states:mass_1                      c     0.000000E+00     7.574349E+00     1.000000E+17           \n",
      "         28  traj.cruise.states:mass_2                      c     0.000000E+00     7.538496E+00     1.000000E+17           \n",
      "         29  traj.cruise.states:mass_3                      c     0.000000E+00     7.406978E+00     1.000000E+17           \n",
      "         30  traj.cruise.states:mass_4                      c     0.000000E+00     7.228865E+00     1.000000E+17           \n",
      "         31  traj.cruise.states:mass_5                      c     0.000000E+00     7.173287E+00     1.000000E+17           \n",
      "         32  traj.cruise.states:mass_6                      c     0.000000E+00     7.095273E+00     1.000000E+17           \n",
      "         33  traj.cruise.states:mass_7                      c     0.000000E+00     6.988846E+00     1.000000E+17           \n",
      "         34  traj.cruise.states:mass_8                      c     0.000000E+00     6.955453E+00     1.000000E+17           \n",
      "         35  traj.cruise.states:distance_0                  c     0.000000E+00     5.932179E-01     1.000000E+15           \n",
      "         36  traj.cruise.states:distance_1                  c     0.000000E+00     9.975026E-01     1.000000E+15           \n",
      "         37  traj.cruise.states:distance_2                  c     0.000000E+00     1.125262E+00     1.000000E+15           \n",
      "         38  traj.cruise.states:distance_3                  c     0.000000E+00     1.597805E+00     1.000000E+15           \n",
      "         39  traj.cruise.states:distance_4                  c     0.000000E+00     2.247700E+00     1.000000E+15           \n",
      "         40  traj.cruise.states:distance_5                  c     0.000000E+00     2.452877E+00     1.000000E+15           \n",
      "         41  traj.cruise.states:distance_6                  c     0.000000E+00     2.742831E+00     1.000000E+15           \n",
      "         42  traj.cruise.states:distance_7                  c     0.000000E+00     3.142100E+00     1.000000E+15           \n",
      "         43  traj.cruise.states:distance_8                  c     0.000000E+00     3.268272E+00     1.000000E+15           \n",
      "         44  traj.cruise.polynomial_controls:mach_0         c     1.400000E+00     1.432334E+00     1.480000E+00           \n",
      "         45  traj.cruise.polynomial_controls:mach_1         c     1.400000E+00     1.410915E+00     1.480000E+00           \n",
      "         46  traj.descent_1.t_duration_0                    c     5.000000E-01     6.074531E-01     1.500000E+00           \n",
      "         47  traj.descent_1.states:mass_0                   c     0.000000E+00     6.951343E+00     1.000000E+17           \n",
      "         48  traj.descent_1.states:mass_1                   c     0.000000E+00     6.945746E+00     1.000000E+17           \n",
      "         49  traj.descent_1.states:mass_2                   c     0.000000E+00     6.943952E+00     1.000000E+17           \n",
      "         50  traj.descent_1.states:mass_3                   c     0.000000E+00     6.937152E+00     1.000000E+17           \n",
      "         51  traj.descent_1.states:mass_4                   c     0.000000E+00     6.928181E+00     1.000000E+17           \n",
      "         52  traj.descent_1.states:mass_5                   c     0.000000E+00     6.925670E+00     1.000000E+17           \n",
      "         53  traj.descent_1.states:mass_6                   c     0.000000E+00     6.922376E+00     1.000000E+17           \n",
      "         54  traj.descent_1.states:mass_7                   c     0.000000E+00     6.917747E+00     1.000000E+17           \n",
      "         55  traj.descent_1.states:mass_8                   c     0.000000E+00     6.916074E+00     1.000000E+17           \n",
      "         56  traj.descent_1.states:distance_0               c     0.000000E+00     3.306224E+00     1.000000E+15           \n",
      "         57  traj.descent_1.states:distance_1               c     0.000000E+00     3.352396E+00     1.000000E+15           \n",
      "         58  traj.descent_1.states:distance_2               c     0.000000E+00     3.365999E+00     1.000000E+15           \n",
      "         59  traj.descent_1.states:distance_3               c     0.000000E+00     3.413639E+00     1.000000E+15           \n",
      "         60  traj.descent_1.states:distance_4               c     0.000000E+00     3.473653E+00     1.000000E+15           \n",
      "         61  traj.descent_1.states:distance_5               c     0.000000E+00     3.491466E+00     1.000000E+15           \n",
      "         62  traj.descent_1.states:distance_6               c     0.000000E+00     3.514485E+00     1.000000E+15           \n",
      "         63  traj.descent_1.states:distance_7               c     0.000000E+00     3.540347E+00     1.000000E+15           \n",
      "         64  traj.descent_1.states:distance_8               c     0.000000E+00     3.546580E+00     1.000000E+15           \n",
      "         65  traj.descent_1.polynomial_controls:mach_0      c     3.600000E-01     1.410915E+00     1.480000E+00           \n",
      "         66  traj.descent_1.polynomial_controls:mach_1      c     3.600000E-01     1.034415E+00     1.480000E+00           \n",
      "         67  traj.descent_1.polynomial_controls:mach_2      c     3.600000E-01     7.767544E-01     1.480000E+00           \n",
      "         68  traj.descent_1.polynomial_controls:mach_3      c     3.600000E-01     4.000000E-01     1.480000E+00           \n",
      "\n",
      "   Constraints (i - inequality, e - equality)\n",
      "      Index  Name                                                      Type          Lower           Value           Upper    Status  Lagrange Multiplier (N/A)\n",
      "          0  mission:constraints:range_residual                           e   0.000000E+00    2.273737E-15    0.000000E+00              9.00000E+100\n",
      "          1  mission:constraints:mass_residual                            e   0.000000E+00   -2.910383E-16    0.000000E+00              9.00000E+100\n",
      "          2  traj.linkages.climb_1:mach_final|cruise:mach_initial         e   0.000000E+00    0.000000E+00    0.000000E+00              9.00000E+100\n",
      "          3  traj.linkages.cruise:mach_final|descent_1:mach_initial       e   0.000000E+00    0.000000E+00    0.000000E+00              9.00000E+100\n",
      "          4  traj.phases.climb_1->initial_boundary_constraint->mach       e   2.000000E-01    2.000000E-01    2.000000E-01              9.00000E+100\n",
      "          5  traj.climb_1.collocation_constraint.defects:mass             e   0.000000E+00    3.564290E-17    0.000000E+00              9.00000E+100\n",
      "          6  traj.climb_1.collocation_constraint.defects:mass             e   0.000000E+00   -4.635887E-13    0.000000E+00              9.00000E+100\n",
      "          7  traj.climb_1.collocation_constraint.defects:mass             e   0.000000E+00   -1.660777E-12    0.000000E+00              9.00000E+100\n",
      "          8  traj.climb_1.collocation_constraint.defects:mass             e   0.000000E+00   -3.033363E-12    0.000000E+00              9.00000E+100\n",
      "          9  traj.climb_1.collocation_constraint.defects:mass             e   0.000000E+00   -1.171309E-12    0.000000E+00              9.00000E+100\n",
      "         10  traj.climb_1.collocation_constraint.defects:mass             e   0.000000E+00    8.243893E-12    0.000000E+00              9.00000E+100\n",
      "         11  traj.climb_1.collocation_constraint.defects:mass             e   0.000000E+00    6.729706E-12    0.000000E+00              9.00000E+100\n",
      "         12  traj.climb_1.collocation_constraint.defects:mass             e   0.000000E+00    7.991031E-12    0.000000E+00              9.00000E+100\n",
      "         13  traj.climb_1.collocation_constraint.defects:mass             e   0.000000E+00    7.903853E-12    0.000000E+00              9.00000E+100\n",
      "         14  traj.climb_1.collocation_constraint.defects:distance         e   0.000000E+00   -1.908908E-19    0.000000E+00              9.00000E+100\n",
      "         15  traj.climb_1.collocation_constraint.defects:distance         e   0.000000E+00    6.681179E-19    0.000000E+00              9.00000E+100\n",
      "         16  traj.climb_1.collocation_constraint.defects:distance         e   0.000000E+00    4.454120E-19    0.000000E+00              9.00000E+100\n",
      "         17  traj.climb_1.collocation_constraint.defects:distance         e   0.000000E+00    6.177357E-19    0.000000E+00              9.00000E+100\n",
      "         18  traj.climb_1.collocation_constraint.defects:distance         e   0.000000E+00   -3.088679E-19    0.000000E+00              9.00000E+100\n",
      "         19  traj.climb_1.collocation_constraint.defects:distance         e   0.000000E+00   -1.029560E-19    0.000000E+00              9.00000E+100\n",
      "         20  traj.climb_1.collocation_constraint.defects:distance         e   0.000000E+00    1.208975E-18    0.000000E+00              9.00000E+100\n",
      "         21  traj.climb_1.collocation_constraint.defects:distance         e   0.000000E+00    6.363028E-19    0.000000E+00              9.00000E+100\n",
      "         22  traj.climb_1.collocation_constraint.defects:distance         e   0.000000E+00   -1.908908E-19    0.000000E+00              9.00000E+100\n",
      "         23  traj.cruise.collocation_constraint.defects:mass              e   0.000000E+00    5.432905E-11    0.000000E+00              9.00000E+100\n",
      "         24  traj.cruise.collocation_constraint.defects:mass              e   0.000000E+00    3.069872E-11    0.000000E+00              9.00000E+100\n",
      "         25  traj.cruise.collocation_constraint.defects:mass              e   0.000000E+00   -1.368339E-12    0.000000E+00              9.00000E+100\n",
      "         26  traj.cruise.collocation_constraint.defects:mass              e   0.000000E+00   -1.842714E-11    0.000000E+00              9.00000E+100\n",
      "         27  traj.cruise.collocation_constraint.defects:mass              e   0.000000E+00   -7.763268E-11    0.000000E+00              9.00000E+100\n",
      "         28  traj.cruise.collocation_constraint.defects:mass              e   0.000000E+00   -1.571123E-10    0.000000E+00              9.00000E+100\n",
      "         29  traj.cruise.collocation_constraint.defects:mass              e   0.000000E+00   -1.123213E-10    0.000000E+00              9.00000E+100\n",
      "         30  traj.cruise.collocation_constraint.defects:mass              e   0.000000E+00   -1.335972E-10    0.000000E+00              9.00000E+100\n",
      "         31  traj.cruise.collocation_constraint.defects:mass              e   0.000000E+00   -1.624483E-10    0.000000E+00              9.00000E+100\n",
      "         32  traj.cruise.collocation_constraint.defects:distance          e   0.000000E+00   -1.444751E-14    0.000000E+00              9.00000E+100\n",
      "         33  traj.cruise.collocation_constraint.defects:distance          e   0.000000E+00   -8.220434E-15    0.000000E+00              9.00000E+100\n",
      "         34  traj.cruise.collocation_constraint.defects:distance          e   0.000000E+00    3.713120E-16    0.000000E+00              9.00000E+100\n",
      "         35  traj.cruise.collocation_constraint.defects:distance          e   0.000000E+00    4.998723E-15    0.000000E+00              9.00000E+100\n",
      "         36  traj.cruise.collocation_constraint.defects:distance          e   0.000000E+00    2.127290E-14    0.000000E+00              9.00000E+100\n",
      "         37  traj.cruise.collocation_constraint.defects:distance          e   0.000000E+00    4.372807E-14    0.000000E+00              9.00000E+100\n",
      "         38  traj.cruise.collocation_constraint.defects:distance          e   0.000000E+00    3.142200E-14    0.000000E+00              9.00000E+100\n",
      "         39  traj.cruise.collocation_constraint.defects:distance          e   0.000000E+00    3.762085E-14    0.000000E+00              9.00000E+100\n",
      "         40  traj.cruise.collocation_constraint.defects:distance          e   0.000000E+00    4.618220E-14    0.000000E+00              9.00000E+100\n",
      "         41  traj.phases.descent_1->final_boundary_constraint->mach       e   2.000000E-01    2.000000E-01    2.000000E-01              9.00000E+100\n",
      "         42  traj.descent_1.collocation_constraint.defects:mass           e   0.000000E+00   -2.135617E-11    0.000000E+00              9.00000E+100\n",
      "         43  traj.descent_1.collocation_constraint.defects:mass           e   0.000000E+00   -1.546678E-11    0.000000E+00              9.00000E+100\n",
      "         44  traj.descent_1.collocation_constraint.defects:mass           e   0.000000E+00   -1.063720E-11    0.000000E+00              9.00000E+100\n",
      "         45  traj.descent_1.collocation_constraint.defects:mass           e   0.000000E+00   -1.569064E-11    0.000000E+00              9.00000E+100\n",
      "         46  traj.descent_1.collocation_constraint.defects:mass           e   0.000000E+00   -1.116935E-11    0.000000E+00              9.00000E+100\n",
      "         47  traj.descent_1.collocation_constraint.defects:mass           e   0.000000E+00   -3.811472E-12    0.000000E+00              9.00000E+100\n",
      "         48  traj.descent_1.collocation_constraint.defects:mass           e   0.000000E+00   -1.339953E-12    0.000000E+00              9.00000E+100\n",
      "         49  traj.descent_1.collocation_constraint.defects:mass           e   0.000000E+00   -4.110633E-13    0.000000E+00              9.00000E+100\n",
      "         50  traj.descent_1.collocation_constraint.defects:mass           e   0.000000E+00   -1.402214E-14    0.000000E+00              9.00000E+100\n",
      "         51  traj.descent_1.collocation_constraint.defects:distance       e   0.000000E+00   -1.936128E-15    0.000000E+00              9.00000E+100\n",
      "         52  traj.descent_1.collocation_constraint.defects:distance       e   0.000000E+00   -1.891970E-15    0.000000E+00              9.00000E+100\n",
      "         53  traj.descent_1.collocation_constraint.defects:distance       e   0.000000E+00   -1.710558E-15    0.000000E+00              9.00000E+100\n",
      "         54  traj.descent_1.collocation_constraint.defects:distance       e   0.000000E+00   -2.651113E-15    0.000000E+00              9.00000E+100\n",
      "         55  traj.descent_1.collocation_constraint.defects:distance       e   0.000000E+00   -2.063437E-15    0.000000E+00              9.00000E+100\n",
      "         56  traj.descent_1.collocation_constraint.defects:distance       e   0.000000E+00   -1.096416E-15    0.000000E+00              9.00000E+100\n",
      "         57  traj.descent_1.collocation_constraint.defects:distance       e   0.000000E+00   -4.802004E-16    0.000000E+00              9.00000E+100\n",
      "         58  traj.descent_1.collocation_constraint.defects:distance       e   0.000000E+00   -2.591823E-16    0.000000E+00              9.00000E+100\n",
      "         59  traj.descent_1.collocation_constraint.defects:distance       e   0.000000E+00   -3.835382E-17    0.000000E+00              9.00000E+100\n",
      "         60  traj.phases.climb_1->path_constraint->throttle               i   0.000000E+00    7.854497E-01    1.000000E+00              9.00000E+100\n",
      "         61  traj.phases.climb_1->path_constraint->throttle               i   0.000000E+00    5.622694E-01    1.000000E+00              9.00000E+100\n",
      "         62  traj.phases.climb_1->path_constraint->throttle               i   0.000000E+00    5.627682E-01    1.000000E+00              9.00000E+100\n",
      "         63  traj.phases.climb_1->path_constraint->throttle               i   0.000000E+00    5.833633E-01    1.000000E+00              9.00000E+100\n",
      "         64  traj.phases.climb_1->path_constraint->throttle               i   0.000000E+00    5.833633E-01    1.000000E+00              9.00000E+100\n",
      "         65  traj.phases.climb_1->path_constraint->throttle               i   0.000000E+00    6.648405E-01    1.000000E+00              9.00000E+100\n",
      "         66  traj.phases.climb_1->path_constraint->throttle               i   0.000000E+00    7.773329E-01    1.000000E+00              9.00000E+100\n",
      "         67  traj.phases.climb_1->path_constraint->throttle               i   0.000000E+00    8.101375E-01    1.000000E+00              9.00000E+100\n",
      "         68  traj.phases.climb_1->path_constraint->throttle               i   0.000000E+00    8.101375E-01    1.000000E+00              9.00000E+100\n",
      "         69  traj.phases.climb_1->path_constraint->throttle               i   0.000000E+00    8.668204E-01    1.000000E+00              9.00000E+100\n",
      "         70  traj.phases.climb_1->path_constraint->throttle               i   0.000000E+00    9.565312E-01    1.000000E+00              9.00000E+100\n",
      "         71  traj.phases.climb_1->path_constraint->throttle               i   0.000000E+00    9.999985E-01    1.000000E+00              9.00000E+100\n",
      "         72  traj.phases.cruise->initial_boundary_constraint->throttle    i   0.000000E+00    7.062894E-01    1.000000E+00              9.00000E+100\n",
      "         73  traj.phases.cruise->final_boundary_constraint->throttle      i   0.000000E+00    6.599819E-01    1.000000E+00              9.00000E+100\n",
      "         74  traj.phases.descent_1->path_constraint->throttle             i   0.000000E+00    2.104671E-01    1.000000E+00              9.00000E+100\n",
      "         75  traj.phases.descent_1->path_constraint->throttle             i   0.000000E+00    1.919425E-01    1.000000E+00              9.00000E+100\n",
      "         76  traj.phases.descent_1->path_constraint->throttle             i   0.000000E+00    1.725424E-01    1.000000E+00              9.00000E+100\n",
      "         77  traj.phases.descent_1->path_constraint->throttle             i   0.000000E+00    1.666167E-01    1.000000E+00              9.00000E+100\n",
      "         78  traj.phases.descent_1->path_constraint->throttle             i   0.000000E+00    1.666167E-01    1.000000E+00              9.00000E+100\n",
      "         79  traj.phases.descent_1->path_constraint->throttle             i   0.000000E+00    1.402172E-01    1.000000E+00              9.00000E+100\n",
      "         80  traj.phases.descent_1->path_constraint->throttle             i   0.000000E+00    8.864763E-02    1.000000E+00              9.00000E+100\n",
      "         81  traj.phases.descent_1->path_constraint->throttle             i   0.000000E+00    5.254323E-02    1.000000E+00              9.00000E+100\n",
      "         82  traj.phases.descent_1->path_constraint->throttle             i   0.000000E+00    5.254323E-02    1.000000E+00              9.00000E+100\n",
      "         83  traj.phases.descent_1->path_constraint->throttle             i   0.000000E+00    1.751183E-06    1.000000E+00              9.00000E+100\n",
      "         84  traj.phases.descent_1->path_constraint->throttle             i   0.000000E+00    4.633963E-06    1.000000E+00              9.00000E+100\n",
      "         85  traj.phases.descent_1->path_constraint->throttle             i   0.000000E+00    8.458004E-02    1.000000E+00              9.00000E+100\n",
      "\n",
      "\n",
      "   Exit Status\n",
      "      Inform  Description\n",
      "           0  Solve Succeeded\n",
      "--------------------------------------------------------------------------------\n",
      "\n"
     ]
    }
   ],
   "source": [
    "phase_info['climb_1']['user_options']['polynomial_control_order'] = 3\n",
    "phase_info['cruise']['user_options']['polynomial_control_order'] = 1\n",
    "phase_info['descent_1']['user_options']['polynomial_control_order'] = 3\n",
    "\n",
    "prob = av.run_aviary('models/test_aircraft/aircraft_for_bench_FwFm.csv',\n",
    "                     phase_info, optimizer=\"IPOPT\", make_plots=True)"
   ]
  },
  {
   "cell_type": "markdown",
   "metadata": {},
   "source": [
    "And let's print out the objective value, fuel burned:"
   ]
  },
  {
   "cell_type": "code",
   "execution_count": 21,
   "metadata": {},
   "outputs": [
    {
     "name": "stdout",
     "output_type": "stream",
     "text": [
      "10399.35763837881\n"
     ]
    }
   ],
   "source": [
    "print(prob.get_val('fuel_burned', units='kg')[0])"
   ]
  },
  {
   "cell_type": "markdown",
   "metadata": {},
   "source": [
    "The added flexibility in the mission allowed the optimizer to reduce the fuel burn compared to the linear Mach profile case.\n",
    "\n",
    "Looking at the altitude and Mach profiles, we see that the optimizer chose a more subtly complex Mach profile:\n",
    "\n",
    "![Altitude and Mach Profiles](images/cubic_advanced_results.png)"
   ]
  },
  {
   "cell_type": "markdown",
   "metadata": {},
   "source": [
    "## Conclusion\n",
    "\n",
    "This example demonstrated how to use Aviary to optimize a more complex mission.\n",
    "We increased the number of segments in the mission, allowed the optimizer to choose the optimal Mach profile, and increased the polynomial control order to allow for more complex Mach profiles.\n",
    "We also modified the aircraft configuration to demonstrate how Aviary can be used to quickly evaluate the impact of design changes on the mission performance.\n"
   ]
  }
 ],
 "metadata": {
  "kernelspec": {
   "display_name": "Python 3 (ipykernel)",
   "language": "python",
   "name": "python3"
  },
  "language_info": {
   "codemirror_mode": {
    "name": "ipython",
    "version": 3
   },
   "file_extension": ".py",
   "mimetype": "text/x-python",
   "name": "python",
   "nbconvert_exporter": "python",
   "pygments_lexer": "ipython3",
   "version": "3.11.6"
  }
 },
 "nbformat": 4,
 "nbformat_minor": 4
}
